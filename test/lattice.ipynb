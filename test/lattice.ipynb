{
 "cells": [
  {
   "cell_type": "code",
   "execution_count": 2,
   "metadata": {},
   "outputs": [],
   "source": [
    "import numpy as np\n",
    "import matplotlib.pyplot as plt\n",
    "import sys\n",
    "sys.path.append('../src/')\n",
    "sys.path.append('../scripts/')\n",
    "sys.path.append('../tools/')\n",
    "import useful as uf\n",
    "import chain_calc as ch\n",
    "import lattice as lt\n",
    "import scipy.ndimage\n",
    "%reload_ext autoreload\n",
    "%autoreload 2\n",
    "plt.rcParams.update({'font.size': 6})\n",
    "%matplotlib qt\n",
    "# sigma = [0, 0]\n",
    "# y = scipy.ndimage.filters.gaussian_filter(chain_sim.LS, sigma, mode='constant')\n"
   ]
  },
  {
   "cell_type": "code",
   "execution_count": 3,
   "metadata": {},
   "outputs": [
    {
     "name": "stdout",
     "output_type": "stream",
     "text": [
      "Simulation time = 0.75\n"
     ]
    }
   ],
   "source": [
    "sqrt2 = (\n",
    "    (0,0),\n",
    "    (12.6,12.6),\n",
    "    (-12.6,12.6),\n",
    ")\n",
    "\n",
    "sim = lt.lattice(3,sqrt2,alpha=0.04)\n",
    "\n",
    "sim.map_coord_gen(12.6,8,4)\n",
    "sim.show_lattice_map()\n",
    "sim.didv_map_calc()\n"
   ]
  },
  {
   "cell_type": "code",
   "execution_count": 4,
   "metadata": {},
   "outputs": [],
   "source": [
    "uf.sim_save(sim)\n",
    "grid_exp = uf.grid(sim.E,sim.didv_map)\n",
    "grid_exp.explorer()"
   ]
  },
  {
   "cell_type": "code",
   "execution_count": null,
   "metadata": {},
   "outputs": [],
   "source": []
  }
 ],
 "metadata": {
  "kernelspec": {
   "display_name": "base",
   "language": "python",
   "name": "python3"
  },
  "language_info": {
   "codemirror_mode": {
    "name": "ipython",
    "version": 3
   },
   "file_extension": ".py",
   "mimetype": "text/x-python",
   "name": "python",
   "nbconvert_exporter": "python",
   "pygments_lexer": "ipython3",
   "version": "3.9.7"
  }
 },
 "nbformat": 4,
 "nbformat_minor": 2
}
