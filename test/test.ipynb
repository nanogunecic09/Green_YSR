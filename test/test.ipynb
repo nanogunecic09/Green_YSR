{
 "cells": [
  {
   "cell_type": "markdown",
   "metadata": {},
   "source": [
    "# imports"
   ]
  },
  {
   "cell_type": "code",
   "execution_count": 2,
   "metadata": {},
   "outputs": [],
   "source": [
    "import numpy as np\n",
    "import matplotlib.pyplot as plt\n",
    "import sys\n",
    "sys.path.append('../src/')\n",
    "sys.path.append('../scripts/')\n",
    "sys.path.append('../tools/')\n",
    "import useful as uf\n",
    "import chain_calc as ch\n",
    "import scipy.ndimage\n",
    "%reload_ext autoreload\n",
    "%autoreload 2\n",
    "plt.rcParams.update({'font.size': 6})\n",
    "%matplotlib qt\n",
    "# sigma = [0, 0]\n",
    "# y = scipy.ndimage.filters.gaussian_filter(chain_sim.LS, sigma, mode='constant')\n"
   ]
  },
  {
   "cell_type": "code",
   "execution_count": null,
   "metadata": {},
   "outputs": [],
   "source": [
    "for i in [1,2,3,4,5,6,7,8,9,10,11,12]:\n",
    "    chain_sim = ch.chain(19,i,J=0.07,direction=(1,2),mode=1,U=0.07)\n",
    "    plt.figure()\n",
    "    chain_sim.linescan(5)\n",
    "    # uf.plot_LS(chain_sim)\n",
    "    uf.chain_save(chain_sim)"
   ]
  },
  {
   "cell_type": "code",
   "execution_count": null,
   "metadata": {},
   "outputs": [],
   "source": [
    "for i in [1,2,3,4,5,6,7,8,9,10,11,12]:\n",
    "    chain_sim = ch.chain(19,i,J=0.05,direction=(1,2),mode=0,U=0.07)\n",
    "    plt.figure()\n",
    "    chain_sim.linescan(5)\n",
    "    # uf.plot_LS(chain_sim)\n",
    "    uf.chain_save(chain_sim)"
   ]
  },
  {
   "cell_type": "code",
   "execution_count": null,
   "metadata": {},
   "outputs": [],
   "source": [
    "for i in np.linspace(0,0.07,7):\n",
    "    chain_sim = ch.chain(19,3,J=i,direction=(1,2),mode=0,U=i)\n",
    "    # plt.figure()\n",
    "    chain_sim.linescan(3)\n",
    "    # uf.plot_LS(chain_sim)\n",
    "    uf.chain_save(chain_sim)"
   ]
  },
  {
   "cell_type": "code",
   "execution_count": null,
   "metadata": {},
   "outputs": [],
   "source": [
    "chain_sim = ch.chain(3,i,J=0.05,direction=(1,1),mode=0,U=0.07)\n",
    "plt.figure()\n",
    "chain_sim.linescan(5)\n",
    "uf.plot_LS(chain_sim)\n",
    "# uf.chain_save(chain_sim)"
   ]
  },
  {
   "cell_type": "code",
   "execution_count": null,
   "metadata": {},
   "outputs": [],
   "source": [
    "chain_sim = ch.chain(10,1,J=0.03,direction=(1,2),mode=0,U=0.07)\n",
    "plt.figure()\n",
    "chain_sim.linescan(5)\n",
    "plt.figure()\n",
    "plt.imshow(-np.array(chain_sim.LS),extent=[chain_sim.E[0]/chain_sim.par['delta_s'],chain_sim.E[-1]/chain_sim.par['delta_s'],0,1],aspect='auto')\n",
    "\n",
    "# uf.chain_save(chain_sim)"
   ]
  },
  {
   "cell_type": "code",
   "execution_count": null,
   "metadata": {},
   "outputs": [],
   "source": [
    "plt.figure()\n",
    "plt.imshow(-np.array(chain_sim.LS),extent=[chain_sim.E[0]/chain_sim.par['delta_s'],chain_sim.E[-1]/chain_sim.par['delta_s'],0,1],aspect='auto')\n"
   ]
  },
  {
   "cell_type": "code",
   "execution_count": null,
   "metadata": {},
   "outputs": [],
   "source": [
    "'../out/paper_Mn/Chain_sim__N19_direction(1, 2)_pitch_x{}_mode0_U0.07_J0.07_angles0'.format(i)"
   ]
  },
  {
   "cell_type": "code",
   "execution_count": 46,
   "metadata": {},
   "outputs": [
    {
     "name": "stdout",
     "output_type": "stream",
     "text": [
      "Simulation time = 6.26\n",
      "Simulation time = 5.89\n",
      "Simulation time = 7.08\n",
      "Simulation time = 7.16\n"
     ]
    }
   ],
   "source": [
    "\n",
    "Js = [0.02,0.04,0.06,0.08]\n",
    "for i in Js:\n",
    "    chain_sim = ch.chain(15,2,J=i,direction=(1,2),mode=1,U=i*0.4)\n",
    "    chain_sim.linescan(5)\n",
    "    uf.chain_save(chain_sim)"
   ]
  },
  {
   "cell_type": "code",
   "execution_count": 45,
   "metadata": {},
   "outputs": [],
   "source": [
    "f,ax = plt.subplots(ncols=len(Js))\n",
    "n=0\n",
    "for i in Js:\n",
    "    chain_sim = uf.load_obj('../out/paper_Mn/Chain_sim__N15_direction(1, 2)_pitch_x2_mode1_U{}_J{}_angles0'.format(i*0.4,i))\n",
    "    ax[n].imshow(np.array(chain_sim.LS),extent=[chain_sim.E[0]/chain_sim.par['delta_s'],chain_sim.E[-1]/chain_sim.par['delta_s'],0,1],aspect='auto')\n",
    "    n+=1"
   ]
  },
  {
   "cell_type": "code",
   "execution_count": 43,
   "metadata": {},
   "outputs": [
    {
     "data": {
      "text/plain": [
       "[<matplotlib.lines.Line2D at 0x19191f14700>]"
      ]
     },
     "execution_count": 43,
     "metadata": {},
     "output_type": "execute_result"
    }
   ],
   "source": [
    "alpha = np.linspace(0,0,20)\n",
    "beta = np.linspace(0,1,20)\n",
    "\n",
    "def e0(alpha,beta):\n",
    "    return (1-alpha**2+beta**2)/(np.sqrt(1-alpha**2+beta**2)**2+4*alpha**2)\n",
    "# plt.figure()\n",
    "plt.plot(e0(alpha,beta))\n"
   ]
  },
  {
   "cell_type": "code",
   "execution_count": null,
   "metadata": {},
   "outputs": [],
   "source": [
    "chain_sim.coords[10]"
   ]
  },
  {
   "cell_type": "markdown",
   "metadata": {},
   "source": [
    "# plot 12 chains with different spacing"
   ]
  },
  {
   "cell_type": "code",
   "execution_count": null,
   "metadata": {},
   "outputs": [],
   "source": [
    "idx  = [1,2,3,4,5,6,7,8,9,10,11]\n",
    "f,ax = plt.subplots(ncols=len(idx))\n",
    "n=0\n",
    "for i in idx:\n",
    "    chain_sim = uf.load_obj('../out/paper_Mn/Chain_sim__N19_direction(1, 2)_pitch_x{}_mode1_U0.07_J0.07_angles0'.format(i))\n",
    "    ax[n].imshow(np.array(chain_sim.LS),extent=[chain_sim.E[0]/chain_sim.par['delta_s'],chain_sim.E[-1]/chain_sim.par['delta_s'],0,1],aspect='auto')\n",
    "    n+=1"
   ]
  },
  {
   "cell_type": "markdown",
   "metadata": {},
   "source": [
    "# paper figs"
   ]
  },
  {
   "cell_type": "code",
   "execution_count": null,
   "metadata": {},
   "outputs": [],
   "source": [
    "chain_sim = uf.load_obj('../out/Paper_Mn/Chain_sim__N2_direction(1, 0)_pitch_x8_mode1_U0.0_J0.04_angles0')\n",
    "\n",
    "\n",
    "f,ax = plt.subplots(1)\n",
    "\n",
    "ax.imshow(chain_sim.LS,aspect='auto',extent=[-1.4,1.4,0,1])\n",
    "\n",
    "uf.set_size_cm(2.6210,1.710,ax=ax)\n",
    "\n",
    "ax.tick_params(axis='both',direction='in')"
   ]
  },
  {
   "cell_type": "code",
   "execution_count": null,
   "metadata": {},
   "outputs": [],
   "source": [
    "chain_sim = uf.load_obj('../out/paper_Mn/Chain_sim__N2_direction(1, 0)_pitch_x12.6_mode1_U0.0_J0.04_angles0')\n",
    "\n",
    "\n",
    "f,ax = plt.subplots(1)\n",
    "\n",
    "ax.imshow(chain_sim.LS,aspect='auto',extent=[-1.4,1.4,0,1])\n",
    "\n",
    "uf.set_size_cm(2.6210,1.710,ax=ax)\n",
    "\n",
    "ax.tick_params(axis='both',direction='in')"
   ]
  },
  {
   "cell_type": "code",
   "execution_count": null,
   "metadata": {},
   "outputs": [],
   "source": [
    "chain_sim = uf.load_obj('../out/paper_Mn/Chain_sim__N3_direction(1, 0)_pitch_x10.5_mode1_U0.0_J0.04_angles0')\n",
    "\n",
    "\n",
    "f,ax = plt.subplots(1)\n",
    "\n",
    "ax.imshow(chain_sim.LS,aspect='auto',extent=[-1.4,1.4,0,1])\n",
    "\n",
    "uf.set_size_cm(2.6210,1.710,ax=ax)\n",
    "\n",
    "ax.tick_params(axis='both',direction='in')"
   ]
  },
  {
   "cell_type": "code",
   "execution_count": null,
   "metadata": {},
   "outputs": [],
   "source": [
    "chain_sim = uf.load_obj('../out/paper_Mn/Chain_sim__N3_direction(1, 0)_pitch_x12_mode1_U0.0_J0.04_angles0')\n",
    "\n",
    "\n",
    "f,ax = plt.subplots(1)\n",
    "\n",
    "ax.imshow(chain_sim.LS,aspect='auto',extent=[-1.4,1.4,0,1])\n",
    "\n",
    "uf.set_size_cm(2.6210,1.710,ax=ax)\n",
    "\n",
    "ax.tick_params(axis='both',direction='in')"
   ]
  },
  {
   "cell_type": "code",
   "execution_count": null,
   "metadata": {},
   "outputs": [],
   "source": []
  },
  {
   "cell_type": "code",
   "execution_count": 44,
   "metadata": {},
   "outputs": [
    {
     "data": {
      "text/plain": [
       "Text(0, 0.5, 'DOS')"
      ]
     },
     "execution_count": 44,
     "metadata": {},
     "output_type": "execute_result"
    }
   ],
   "source": [
    "chain_sim = ch.chain(2,500,J=0.1,direction=(1,2),mode=1,U=0.2,gamma_s=500e-6,delta_s=1e-3)\n",
    "\n",
    "plt.figure()\n",
    "plt.plot(chain_sim.E*1e3,chain_sim.didv([0,0])/chain_sim.didv([0,0])[0])\n",
    "plt.plot(chain_sim.E*1e3,chain_sim.didv([-100,-100])/chain_sim.didv([-100,-100])[0])\n",
    "\n",
    "plt.xlim(-3,3)\n",
    "plt.xlabel('Energy (Delta)')\n",
    "plt.ylabel('DOS')\n"
   ]
  },
  {
   "cell_type": "code",
   "execution_count": 49,
   "metadata": {},
   "outputs": [
    {
     "data": {
      "text/plain": [
       "Text(0, 0.5, 'DOS')"
      ]
     },
     "execution_count": 49,
     "metadata": {},
     "output_type": "execute_result"
    }
   ],
   "source": [
    "chain_sim = ch.chain(2,500,J=0.5,direction=(1,2),mode=0,U=0.2,gamma_s=500e-6,delta_s=1e-3)\n",
    "\n",
    "plt.figure()\n",
    "plt.plot(chain_sim.E*1e3,chain_sim.didv([0,0])/chain_sim.didv([0,0])[0])\n",
    "plt.plot(chain_sim.E*1e3,chain_sim.didv([-100,-100])/chain_sim.didv([-100,-100])[0])\n",
    "plt.xlim(-3,3)\n",
    "plt.xlabel('Energy (Delta)')\n",
    "plt.ylabel('DOS')\n"
   ]
  },
  {
   "cell_type": "code",
   "execution_count": null,
   "metadata": {},
   "outputs": [],
   "source": []
  },
  {
   "cell_type": "markdown",
   "metadata": {},
   "source": [
    "# last calc paper"
   ]
  },
  {
   "cell_type": "code",
   "execution_count": null,
   "metadata": {},
   "outputs": [],
   "source": [
    "m=0.09\n",
    "pf=0.001"
   ]
  },
  {
   "cell_type": "code",
   "execution_count": 132,
   "metadata": {},
   "outputs": [
    {
     "name": "stdout",
     "output_type": "stream",
     "text": [
      "Simulation time = 0.01\n"
     ]
    },
    {
     "data": {
      "text/plain": [
       "[<matplotlib.lines.Line2D at 0x1ef8b56a550>]"
      ]
     },
     "execution_count": 132,
     "metadata": {},
     "output_type": "execute_result"
    }
   ],
   "source": [
    "chain_sim = ch.chain(1,6.3,J=0.00,direction=(1,2),mode=1,U=0,spiral=0,m=18.7,pf = 0.28)\n",
    "plt.figure()\n",
    "chain_sim.linescan(3)\n",
    "chain_sim.LSconvolute(0.68e-3,20e-6)\n",
    "\n",
    "plt.plot(chain_sim.V*1e3,chain_sim.LSC[0,:])\n",
    "# plt.plot(chain_sim.E*1e3,chain_sim.didv([10,10]))\n",
    "\n"
   ]
  },
  {
   "cell_type": "code",
   "execution_count": 3,
   "metadata": {},
   "outputs": [
    {
     "name": "stdout",
     "output_type": "stream",
     "text": [
      "Simulation time = 27.0\n"
     ]
    },
    {
     "ename": "",
     "evalue": "",
     "output_type": "error",
     "traceback": [
      "\u001b[1;31mThe Kernel crashed while executing code in the current cell or a previous cell. \n",
      "\u001b[1;31mPlease review the code in the cell(s) to identify a possible cause of the failure. \n",
      "\u001b[1;31mClick <a href='https://aka.ms/vscodeJupyterKernelCrash'>here</a> for more info. \n",
      "\u001b[1;31mView Jupyter <a href='command:jupyter.viewOutput'>log</a> for further details."
     ]
    }
   ],
   "source": [
    "chain_sim = ch.chain(9,6.3,J=0.03,direction=(1,2),mode=1,U=0,spiral=0,m=18.7,pf = 0.28)\n",
    "chain_sim.linescan(10)\n",
    "chain_sim.LSconvolute(0.65e-3,40e-6)\n",
    "uf.chain_save(chain_sim)\n"
   ]
  },
  {
   "cell_type": "code",
   "execution_count": 3,
   "metadata": {},
   "outputs": [
    {
     "name": "stdout",
     "output_type": "stream",
     "text": [
      "Simulation time = 7.56\n",
      "Simulation time = 7.68\n",
      "Simulation time = 7.61\n",
      "Simulation time = 7.54\n",
      "Simulation time = 7.59\n",
      "Simulation time = 7.63\n",
      "Simulation time = 7.65\n",
      "Simulation time = 7.56\n",
      "Simulation time = 7.52\n",
      "Simulation time = 7.85\n",
      "Simulation time = 7.64\n",
      "Simulation time = 7.55\n",
      "Simulation time = 7.53\n",
      "Simulation time = 7.6\n",
      "Simulation time = 7.66\n",
      "Simulation time = 7.52\n",
      "Simulation time = 7.46\n",
      "Simulation time = 8.14\n",
      "Simulation time = 7.47\n",
      "Simulation time = 7.54\n",
      "Simulation time = 7.45\n",
      "Simulation time = 7.43\n",
      "Simulation time = 7.35\n",
      "Simulation time = 7.37\n",
      "Simulation time = 7.4\n",
      "Simulation time = 7.4\n",
      "Simulation time = 7.44\n",
      "Simulation time = 7.38\n",
      "Simulation time = 7.46\n",
      "Simulation time = 7.42\n",
      "Simulation time = 7.62\n",
      "Simulation time = 7.46\n",
      "Simulation time = 7.43\n",
      "Simulation time = 8.21\n",
      "Simulation time = 7.53\n",
      "Simulation time = 7.43\n",
      "Simulation time = 7.5\n",
      "Simulation time = 7.57\n",
      "Simulation time = 7.66\n",
      "Simulation time = 8.61\n",
      "Simulation time = 7.6\n",
      "Simulation time = 7.67\n",
      "Simulation time = 7.52\n",
      "Simulation time = 7.35\n",
      "Simulation time = 7.43\n",
      "Simulation time = 7.39\n",
      "Simulation time = 7.46\n",
      "Simulation time = 7.49\n",
      "Simulation time = 7.32\n",
      "Simulation time = 7.43\n"
     ]
    }
   ],
   "source": [
    "for i in np.linspace(0.03,0.1):\n",
    "    chain_sim = ch.chain(9,6.3,J=i,direction=(1,2),mode=1,U=0,spiral=0,m=18.7,pf = 0.28)\n",
    "    chain_sim.linescan(10)\n",
    "    chain_sim.LSconvolute(0.65e-3,40e-6)\n",
    "    uf.chain_save(chain_sim)"
   ]
  },
  {
   "cell_type": "code",
   "execution_count": 5,
   "metadata": {},
   "outputs": [
    {
     "name": "stdout",
     "output_type": "stream",
     "text": [
      "Simulation time = 8.03\n"
     ]
    }
   ],
   "source": [
    "chain_sim = ch.chain(9,6.3,J=0.03,direction=(1,2),mode=1,U=0,spiral=0,m=18.7,pf = 0.28)\n",
    "chain_sim.linescan(10)\n",
    "chain_sim.LSconvolute(0.65e-3,40e-6)\n",
    "uf.chain_save(chain_sim)"
   ]
  },
  {
   "cell_type": "code",
   "execution_count": 64,
   "metadata": {},
   "outputs": [
    {
     "data": {
      "text/plain": [
       "<matplotlib.image.AxesImage at 0x1effc655790>"
      ]
     },
     "execution_count": 64,
     "metadata": {},
     "output_type": "execute_result"
    }
   ],
   "source": [
    "plt.figure()\n",
    "# plt.imshow(chain_sim.LS)\n",
    "plt.imshow(chain_sim.LSC)\n"
   ]
  },
  {
   "cell_type": "code",
   "execution_count": 70,
   "metadata": {},
   "outputs": [
    {
     "data": {
      "text/plain": [
       "[<matplotlib.lines.Line2D at 0x1effcf53880>]"
      ]
     },
     "execution_count": 70,
     "metadata": {},
     "output_type": "execute_result"
    }
   ],
   "source": [
    "plt.figure()\n",
    "# plt.plot(chain_sim.E*1e3,chain_sim.LS[3,:])\n",
    "plt.plot(chain_sim.V*1e3,chain_sim.LSC[-1,:])\n"
   ]
  },
  {
   "cell_type": "code",
   "execution_count": null,
   "metadata": {},
   "outputs": [],
   "source": []
  }
 ],
 "metadata": {
  "kernelspec": {
   "display_name": "base",
   "language": "python",
   "name": "python3"
  },
  "language_info": {
   "codemirror_mode": {
    "name": "ipython",
    "version": 3
   },
   "file_extension": ".py",
   "mimetype": "text/x-python",
   "name": "python",
   "nbconvert_exporter": "python",
   "pygments_lexer": "ipython3",
   "version": "3.9.7"
  }
 },
 "nbformat": 4,
 "nbformat_minor": 2
}
