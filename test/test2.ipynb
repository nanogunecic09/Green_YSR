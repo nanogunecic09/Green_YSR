{
 "cells": [
  {
   "cell_type": "code",
   "execution_count": 1,
   "metadata": {},
   "outputs": [],
   "source": [
    "import numpy as np\n",
    "import matplotlib.pyplot as plt\n",
    "import sys\n",
    "\n",
    "sys.path.append('../src/')\n",
    "sys.path.append('../scripts/')\n",
    "sys.path.append('../tools/')\n",
    "import useful as uf\n",
    "import chain_calc as ch\n",
    "import scipy.ndimage\n",
    "%reload_ext autoreload\n",
    "%autoreload 2\n",
    "plt.rcParams.update({'font.size': 8})\n",
    "%matplotlib qt\n",
    "# sigma = [0, 0]\n",
    "# y = scipy.ndimage.filters.gaussian_filter(chain_sim.LS, sigma, mode='constant')\n"
   ]
  },
  {
   "cell_type": "code",
   "execution_count": 4,
   "metadata": {},
   "outputs": [
    {
     "data": {
      "text/plain": [
       "'../out/paper_Mn/Chain_sim__N19_direction(1, 2)_pitch_x2_mode1_U0.07_J0.0_angles0'"
      ]
     },
     "execution_count": 4,
     "metadata": {},
     "output_type": "execute_result"
    }
   ],
   "source": [
    "'../out/paper_Mn/Chain_sim__N19_direction(1, 2)_pitch_x2_mode1_U0.07_J{}_angles0'.format(i)"
   ]
  },
  {
   "cell_type": "code",
   "execution_count": 2,
   "metadata": {},
   "outputs": [],
   "source": [
    "idx  = np.linspace(0,0.07,7)\n",
    "f,ax = plt.subplots(ncols=len(idx))\n",
    "n=0\n",
    "for i in idx:\n",
    "    chain_sim = uf.load_obj('../out/paper_Mn/Chain_sim__N19_direction(1, 2)_pitch_x3_mode1_U0.07_J{}_angles0'.format(i))\n",
    "    ax[n].imshow(np.array(chain_sim.LS),extent=[chain_sim.E[0]/chain_sim.par['delta_s'],chain_sim.E[-1]/chain_sim.par['delta_s'],0,1],aspect='auto')\n",
    "    n+=1"
   ]
  },
  {
   "cell_type": "code",
   "execution_count": 26,
   "metadata": {},
   "outputs": [],
   "source": [
    "idx  = np.linspace(0,0.05,5)\n",
    "f,ax = plt.subplots(ncols=len(idx))\n",
    "n=0\n",
    "for i in idx:\n",
    "    chain_sim = uf.load_obj('../out/paper_Mn/Chain_sim__N19_direction(1, 2)_pitch_x3_mode1_U0_J{}_angles0'.format(i))\n",
    "    ax[n].imshow(np.array(chain_sim.LS),extent=[chain_sim.E[0]/chain_sim.par['delta_s'],chain_sim.E[-1]/chain_sim.par['delta_s'],0,1],aspect='auto')\n",
    "    n+=1"
   ]
  },
  {
   "cell_type": "code",
   "execution_count": 2,
   "metadata": {},
   "outputs": [],
   "source": [
    "idx  = [1,2,3,4,5,6,7,8,9,10,11]\n",
    "f,ax = plt.subplots(ncols=len(idx))\n",
    "n=0\n",
    "for i in idx:\n",
    "    chain_sim = uf.load_obj('../out/paper_Mn/Chain_sim__N19_direction(1, 2)_pitch_x{}_mode0_U0.07_J0.07_angles0'.format(i))\n",
    "    ax[n].imshow(-np.array(chain_sim.LS),extent=[chain_sim.E[0]/chain_sim.par['delta_s'],chain_sim.E[-1]/chain_sim.par['delta_s'],0,1],aspect='auto')\n",
    "    n+=1"
   ]
  },
  {
   "cell_type": "code",
   "execution_count": 10,
   "metadata": {},
   "outputs": [],
   "source": [
    "idx  = np.linspace(0,0.07,7)\n",
    "f,ax = plt.subplots(ncols=len(idx))\n",
    "n=0\n",
    "for i in idx:\n",
    "    chain_sim = uf.load_obj('../out/paper_Mn/Chain_sim__N19_direction(1, 2)_pitch_x3_mode1_U{}_J{}_angles0'.format(i,i))\n",
    "    ax[n].imshow(np.array(chain_sim.LS),extent=[chain_sim.E[0]/chain_sim.par['delta_s'],chain_sim.E[-1]/chain_sim.par['delta_s'],0,1],aspect='auto')\n",
    "    n+=1"
   ]
  },
  {
   "cell_type": "code",
   "execution_count": 9,
   "metadata": {},
   "outputs": [
    {
     "name": "stdout",
     "output_type": "stream",
     "text": [
      "0\n",
      "1\n",
      "2\n",
      "3\n",
      "4\n",
      "5\n",
      "6\n",
      "7\n",
      "8\n",
      "9\n",
      "10\n"
     ]
    }
   ],
   "source": [
    "idx  = [1,2,3,4,5,6,7,8,9,10,11]\n",
    "f,ax = plt.subplots(ncols=len(idx))\n",
    "n=0\n",
    "map = []\n",
    "for i in idx:\n",
    "    print(n)\n",
    "    chain_sim = uf.load_obj('../out/paper_Mn/Chain_sim__N19_direction(1, 2)_pitch_x{}_mode0_U0.07_J0.07_angles0'.format(i))\n",
    "    sigma = [3, 0]\n",
    "    y = scipy.ndimage.filters.gaussian_filter(chain_sim.LS, sigma, mode='constant')\n",
    "    ax[n].imshow(-y,extent=[chain_sim.E[0]/chain_sim.par['delta_s'],chain_sim.E[-1]/chain_sim.par['delta_s'],0,1],aspect='auto')\n",
    "    map.append(-np.mean(np.array(chain_sim.LS),axis=0))\n",
    "    n+=1\n"
   ]
  },
  {
   "cell_type": "code",
   "execution_count": 44,
   "metadata": {},
   "outputs": [
    {
     "data": {
      "text/plain": [
       "<matplotlib.image.AxesImage at 0x26bdc9f0370>"
      ]
     },
     "execution_count": 44,
     "metadata": {},
     "output_type": "execute_result"
    }
   ],
   "source": [
    "plt.figure()\n",
    "plt.imshow(map,aspect='auto')"
   ]
  },
  {
   "cell_type": "code",
   "execution_count": 42,
   "metadata": {},
   "outputs": [
    {
     "name": "stderr",
     "output_type": "stream",
     "text": [
      "C:\\Users\\strivini\\AppData\\Local\\Temp/ipykernel_22580/1338896665.py:3: RuntimeWarning: More than 20 figures have been opened. Figures created through the pyplot interface (`matplotlib.pyplot.figure`) are retained until explicitly closed and may consume too much memory. (To control this warning, see the rcParam `figure.max_open_warning`).\n",
      "  plt.figure()\n"
     ]
    },
    {
     "data": {
      "text/plain": [
       "[<matplotlib.lines.Line2D at 0x26bdb18cd00>]"
      ]
     },
     "execution_count": 42,
     "metadata": {},
     "output_type": "execute_result"
    }
   ],
   "source": [
    "chain_sim = uf.load_obj('../out/paper_Mn/Chain_sim__N19_direction(1, 2)_pitch_x5_mode0_U0.07_J0.07_angles0')\n",
    "\n",
    "plt.figure()\n",
    "plt.plot(np.array(chain_sim.LS)[0,:])"
   ]
  },
  {
   "cell_type": "code",
   "execution_count": 48,
   "metadata": {},
   "outputs": [
    {
     "data": {
      "text/plain": [
       "<matplotlib.image.AxesImage at 0x29a00311310>"
      ]
     },
     "execution_count": 48,
     "metadata": {},
     "output_type": "execute_result"
    }
   ],
   "source": [
    "chain_sim = uf.load_obj('../out/paper_Mn/Chain_sim__N18_direction(1, 2)_pitch_x3_mode0_U0.07_J0.07_angles0')\n",
    "\n",
    "plt.figure()\n",
    "plt.imshow(-np.array(chain_sim.LS),extent=[chain_sim.E[0]/chain_sim.par['delta_s'],chain_sim.E[-1]/chain_sim.par['delta_s'],0,1],aspect='auto')\n"
   ]
  },
  {
   "cell_type": "markdown",
   "metadata": {},
   "source": [
    "# plot lastcalc"
   ]
  },
  {
   "cell_type": "code",
   "execution_count": 8,
   "metadata": {},
   "outputs": [],
   "source": [
    "plt.rcParams.update({'font.size': 8})\n",
    "chain_sim = uf.load_obj('../out/paper_Mn/Chain_sim__N18_direction(1, 2)_pitch_x3_mode0_U0.07_J0.07_angles0')\n",
    "plt.rcParams.update({'font.size': 8})\n",
    "f, ax = plt.subplots()\n",
    "\n",
    "sigma = [0, 0]\n",
    "y = scipy.ndimage.filters.gaussian_filter(np.array(chain_sim.LS), sigma, mode='constant')\n",
    "ax.imshow(-y,extent=[chain_sim.E[0]/chain_sim.par['delta_s'],chain_sim.E[-1]/chain_sim.par['delta_s'],0,7],aspect='auto')\n",
    "ax.set_xlabel('Bias '+r'$(\\Delta)$')\n",
    "ax.set_ylabel('Distance (nm)')\n",
    "ax.tick_params(axis='both',direction='in')\n",
    "uf.set_size_cm(8,5)\n",
    "uf.spines(ax)"
   ]
  },
  {
   "cell_type": "code",
   "execution_count": 34,
   "metadata": {},
   "outputs": [
    {
     "data": {
      "text/plain": [
       "7.02764221499934"
      ]
     },
     "execution_count": 34,
     "metadata": {},
     "output_type": "execute_result"
    }
   ],
   "source": [
    "20*np.sqrt(5)*3*0.33/6.3"
   ]
  },
  {
   "cell_type": "code",
   "execution_count": 3,
   "metadata": {},
   "outputs": [],
   "source": [
    "plt.rcParams.update({'font.size': 8})\n",
    "chain_sim = uf.load_obj('../out/paper_Mn/9_Jvary/Chain_sim__N9_direction(1, 2)_pitch_x6.3_mode1_U0_J0.03_angles0')\n",
    "\n",
    "f, ax = plt.subplots()\n",
    "\n",
    "sigma = [3.5, 0]\n",
    "y = scipy.ndimage.filters.gaussian_filter(np.array(chain_sim.LSC), sigma, mode='constant')\n",
    "ax.imshow(y,extent=[chain_sim.V[0]*1e3,chain_sim.V[-1]*1e3,0,7],aspect='auto',interpolation='nearest')\n",
    "ax.set_xlabel('Bias (mV)')\n",
    "ax.set_ylabel('Distance (nm)')\n",
    "ax.set_xlim(-2,2)\n",
    "ax.tick_params(axis='both',direction='in')\n",
    "uf.set_size_cm(4.0244,2.4510)\n",
    "ax.set_xlim()\n",
    "\n",
    "uf.spines(ax)\n",
    "plt.savefig('out.pdf',dpi=600)"
   ]
  },
  {
   "cell_type": "code",
   "execution_count": 9,
   "metadata": {},
   "outputs": [
    {
     "data": {
      "text/plain": [
       "7.984870032812314"
      ]
     },
     "execution_count": 9,
     "metadata": {},
     "output_type": "execute_result"
    }
   ],
   "source": [
    "y.max()/y[0,0]"
   ]
  },
  {
   "cell_type": "code",
   "execution_count": 3,
   "metadata": {},
   "outputs": [
    {
     "data": {
      "text/plain": [
       "-1.95"
      ]
     },
     "execution_count": 3,
     "metadata": {},
     "output_type": "execute_result"
    }
   ],
   "source": [
    "chain_sim.V[0]*1e3"
   ]
  },
  {
   "cell_type": "code",
   "execution_count": 23,
   "metadata": {},
   "outputs": [
    {
     "data": {
      "text/plain": [
       "(-2.4999999999999996, 2.4999999999999996)"
      ]
     },
     "execution_count": 23,
     "metadata": {},
     "output_type": "execute_result"
    }
   ],
   "source": [
    "\n",
    "chain_sim = uf.load_obj('../out/paper_Mn/9_Jvary/Chain_sim__N9_direction(1, 2)_pitch_x6.3_mode1_U0_J{}_angles0'.format(i,np.pi/3))\n",
    "f, ax = plt.subplots()\n",
    "sigma = [3.5, 0]\n",
    "y = scipy.ndimage.filters.gaussian_filter(np.array(chain_sim.LSC), sigma, mode='constant')\n",
    "ax.imshow(y,extent=[chain_sim.V[0]/chain_sim.par['delta_s'],chain_sim.V[-1]/chain_sim.par['delta_s'],0,7],aspect='auto')\n",
    "ax.set_xlabel('Bias (mV)')\n",
    "ax.set_ylabel('Distance (nm)')\n",
    "ax.tick_params(axis='both',direction='in')\n",
    "uf.set_size_cm(8,5)\n",
    "ax.set_xlim()"
   ]
  },
  {
   "cell_type": "code",
   "execution_count": null,
   "metadata": {},
   "outputs": [],
   "source": []
  }
 ],
 "metadata": {
  "kernelspec": {
   "display_name": "base",
   "language": "python",
   "name": "python3"
  },
  "language_info": {
   "codemirror_mode": {
    "name": "ipython",
    "version": 3
   },
   "file_extension": ".py",
   "mimetype": "text/x-python",
   "name": "python",
   "nbconvert_exporter": "python",
   "pygments_lexer": "ipython3",
   "version": "3.9.7"
  }
 },
 "nbformat": 4,
 "nbformat_minor": 2
}
