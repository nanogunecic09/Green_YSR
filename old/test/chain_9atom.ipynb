{
 "cells": [
  {
   "cell_type": "code",
   "execution_count": 15,
   "metadata": {},
   "outputs": [],
   "source": [
    "import sys\n",
    "sys.path.append('../src/')\n",
    "sys.path.append('../scripts/')\n",
    "sys.path.append('../tools/')\n",
    "import matplotlib.pyplot as plt\n",
    "import useful as uf\n",
    "import chain_calc as ch\n",
    "import scipy.ndimage\n",
    "import numpy as np\n",
    "%reload_ext autoreload\n",
    "%autoreload 2\n",
    "%matplotlib qt"
   ]
  },
  {
   "cell_type": "code",
   "execution_count": 6,
   "metadata": {},
   "outputs": [
    {
     "name": "stdout",
     "output_type": "stream",
     "text": [
      "Simulation time = 0.82\n"
     ]
    }
   ],
   "source": [
    "chain_sim = ch.chain(9,6.3,J=0.03,direction=(1,2),mode=1,U=0,spiral=0,m=18.7,pf = 0.28) # load the simulator\n",
    "chain_sim.linescan(3)# compute the linescan with 3 points per atom\n",
    "chain_sim.LSconvolute(0.65e-3,40e-6) # convolute linescan with a supercondcting tip [delta,dynes]\n",
    "uf.chain_save(chain_sim) # save the calculation in the output"
   ]
  },
  {
   "cell_type": "code",
   "execution_count": 19,
   "metadata": {},
   "outputs": [
    {
     "data": {
      "text/plain": [
       "(-2.8, 2.8)"
      ]
     },
     "execution_count": 19,
     "metadata": {},
     "output_type": "execute_result"
    }
   ],
   "source": [
    "# loading saved simulation\n",
    "chain_sim = uf.load_obj('../out/sim_N9_direction(1, 2)_pitch_x6.3_mode1_U0_J0.03_angles0')\n",
    "\n",
    "# account for non-local tunneling effects\n",
    "sigma = [1, 0]\n",
    "y = scipy.ndimage.filters.gaussian_filter(np.array(chain_sim.LSC), sigma, mode='constant')\n",
    "\n",
    "# plot the calculation\n",
    "f, ax = plt.subplots()\n",
    "ax.imshow(y,extent=[chain_sim.V[0]/chain_sim.par['delta_s'],chain_sim.V[-1]/chain_sim.par['delta_s'],0,7],aspect='auto')\n",
    "ax.set_xlabel('Bias (mV)')\n",
    "ax.set_ylabel('Distance (nm)')\n",
    "ax.tick_params(axis='both',direction='in')\n",
    "uf.set_size_cm(8,5)\n",
    "ax.set_xlim()"
   ]
  },
  {
   "cell_type": "code",
   "execution_count": null,
   "metadata": {},
   "outputs": [],
   "source": []
  }
 ],
 "metadata": {
  "kernelspec": {
   "display_name": "base",
   "language": "python",
   "name": "python3"
  },
  "language_info": {
   "codemirror_mode": {
    "name": "ipython",
    "version": 3
   },
   "file_extension": ".py",
   "mimetype": "text/x-python",
   "name": "python",
   "nbconvert_exporter": "python",
   "pygments_lexer": "ipython3",
   "version": "3.9.7"
  }
 },
 "nbformat": 4,
 "nbformat_minor": 2
}
